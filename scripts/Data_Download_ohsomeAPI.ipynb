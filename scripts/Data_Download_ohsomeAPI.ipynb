{
 "cells": [
  {
   "cell_type": "code",
   "execution_count": null,
   "id": "8d93563c",
   "metadata": {},
   "outputs": [],
   "source": [
    "import pandas as pd\n",
    "import geopandas as gpd\n",
    "from ohsome import OhsomeClient\n",
    "client = OhsomeClient()"
   ]
  },
  {
   "cell_type": "markdown",
   "id": "7f185260",
   "metadata": {},
   "source": [
    "# Data Download Mühlhausen"
   ]
  },
  {
   "cell_type": "code",
   "execution_count": null,
   "id": "50fc9b04",
   "metadata": {},
   "outputs": [],
   "source": [
    "# set AOI to Mühlhausen\n",
    "bpolys = gpd.read_file(\"../data/extents/Extent_Muehlhausen.geojson\")\n",
    "display(bpolys)"
   ]
  },
  {
   "cell_type": "code",
   "execution_count": null,
   "id": "904451b3",
   "metadata": {},
   "outputs": [],
   "source": [
    "# filter for highways\n",
    "filter = \"(highway=tertiary or highway=residential or highway=service or highway=track or highway=path or highway=footway or highway=steps) and type:way\"\n",
    "response = client.elements.geometry.post(\n",
    "    bpolys=bpolys, \n",
    "    filter=filter,\n",
    "    properties=\"metadata,tags\"\n",
    ")\n",
    "results_df = response.as_dataframe()"
   ]
  },
  {
   "cell_type": "code",
   "execution_count": null,
   "id": "94a93584",
   "metadata": {},
   "outputs": [],
   "source": [
    "# export results as geojson file\n",
    "results_df.reset_index(inplace=True)\n",
    "results_df = results_df.to_crs(\"EPSG:4326\")\n",
    "display(results_df.head())\n",
    "\n",
    "results_df.to_file(\"../data/highway_tags_muehlhausen.geojson\", driver='GeoJSON')"
   ]
  },
  {
   "cell_type": "markdown",
   "id": "64cc17df",
   "metadata": {},
   "source": [
    "# Data Download Vorarlberg"
   ]
  },
  {
   "cell_type": "code",
   "execution_count": null,
   "id": "94fe5a55",
   "metadata": {},
   "outputs": [],
   "source": [
    "# set AOI to Vorarlberg\n",
    "bpolys = gpd.read_file(\"../data/extents/Extent_Vorarlberg.geojson\")\n",
    "display(bpolys)"
   ]
  },
  {
   "cell_type": "code",
   "execution_count": null,
   "id": "911e0ef8",
   "metadata": {},
   "outputs": [],
   "source": [
    "# filter for highways\n",
    "filter = \"(highway=tertiary or highway=residential or highway=service or highway=track or highway=path or highway=footway or highway=steps) and type:way\"\n",
    "response = client.elements.geometry.post(\n",
    "    bpolys=bpolys, \n",
    "    filter=filter,\n",
    "    properties=\"metadata\"\n",
    ")\n",
    "results_df = response.as_dataframe()"
   ]
  },
  {
   "cell_type": "code",
   "execution_count": null,
   "id": "7a1b2f97",
   "metadata": {},
   "outputs": [],
   "source": [
    "# export results as geojson file\n",
    "results_df.reset_index(inplace=True)\n",
    "results_df = results_df.to_crs(\"EPSG:4326\")\n",
    "display(results_df.head())\n",
    "\n",
    "results_df.to_file(\"../data/highway_filter_vorarlberg.geojson\", driver='GeoJSON')"
   ]
  }
 ],
 "metadata": {
  "kernelspec": {
   "display_name": "Python 3",
   "language": "python",
   "name": "python3"
  },
  "language_info": {
   "codemirror_mode": {
    "name": "ipython",
    "version": 3
   },
   "file_extension": ".py",
   "mimetype": "text/x-python",
   "name": "python",
   "nbconvert_exporter": "python",
   "pygments_lexer": "ipython3",
   "version": "3.8.8"
  }
 },
 "nbformat": 4,
 "nbformat_minor": 5
}
